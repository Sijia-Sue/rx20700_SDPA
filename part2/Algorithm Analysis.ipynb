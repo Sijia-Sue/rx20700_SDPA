{
 "cells": [
  {
   "cell_type": "code",
   "execution_count": 5,
   "metadata": {},
   "outputs": [],
   "source": [
    "\"\"\"\n",
    "Title: Algorithm Analysis\n",
    "\n",
    "Authour: Sijia Hou <Sijia at python.org>\n",
    "\n",
    "Created: 10-Jan-2021\n",
    "\"\"\"\n",
    "def sort(L1, L2):\n",
    "    list3=[] # create a new list to stor L1 and the ordering of the elements is specified by the sequence of elements in L2\n",
    "    newdic={} # create a new dictionary\n",
    "    for i in L2: \n",
    "        newdic[i] = 0 # The element of L2 is stored in the dictionary as a key.The complexity here is O(M)\n",
    "    list4 = [] # create another list\n",
    "    for j in L1:\n",
    "        if j in newdic.keys():\n",
    "            newdic[j] += 1\n",
    "        else:\n",
    "            list4.append(j) \n",
    "            # If the element equals to a keys in dic, add the key's value to list3, else add the elements to list4.\n",
    "            #The complexity is O(N)\n",
    "\n",
    "    for a in newdic:\n",
    "        list3.extend([a]*newdic[a])\n",
    "        # add the element [a]*newdic[a] to the list3. \n",
    "        \n",
    "    return print(list3 + sorted(list4)) # The complexity is O(N*log(N))"
   ]
  },
  {
   "cell_type": "code",
   "execution_count": 6,
   "metadata": {},
   "outputs": [
    {
     "name": "stdout",
     "output_type": "stream",
     "text": [
      "[2, 2, 1, 1, 8, 8, 3, 5, 6, 7, 9]\n"
     ]
    }
   ],
   "source": [
    "L1 = [2,1,2,5,7,1,9,3,6,8,8]\n",
    "L2 = [2,1,8,3]\n",
    "sort(L1,L2)"
   ]
  },
  {
   "cell_type": "code",
   "execution_count": 7,
   "metadata": {},
   "outputs": [
    {
     "name": "stdout",
     "output_type": "stream",
     "text": [
      "[2, 2, 6, 6, 4, 5, 7, 8]\n"
     ]
    }
   ],
   "source": [
    "L1 = [2,6,7,5,2,6,8,4]\n",
    "\n",
    "L2 = [2,6,4,5]\n",
    "\n",
    "sort(L1,L2)"
   ]
  },
  {
   "cell_type": "markdown",
   "metadata": {},
   "source": [
    "**1.What is the complexity of this sorting algorithm?**  \n",
    "The complexity of this sorting algorithm is M+N+N * log(N). The complexity of the algorithm is mainly determined by the sorting function stored().  \n",
    "**2.How is the complexity affected if L2 is much larger than L1? And what if they are of the same size?**  \n",
    "If L2 is much larger than L1,the N and N * log(N)can be ignored. So the complexity will become M.  \n",
    "If they are of the same size, the complexity will be N+ N * log(N) because the complexity of 2N is equal to the complexity of N."
   ]
  },
  {
   "cell_type": "code",
   "execution_count": null,
   "metadata": {},
   "outputs": [],
   "source": []
  }
 ],
 "metadata": {
  "kernelspec": {
   "display_name": "Python 3",
   "language": "python",
   "name": "python3"
  },
  "language_info": {
   "codemirror_mode": {
    "name": "ipython",
    "version": 3
   },
   "file_extension": ".py",
   "mimetype": "text/x-python",
   "name": "python",
   "nbconvert_exporter": "python",
   "pygments_lexer": "ipython3",
   "version": "3.8.3"
  }
 },
 "nbformat": 4,
 "nbformat_minor": 4
}
